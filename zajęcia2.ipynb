{
  "nbformat": 4,
  "nbformat_minor": 0,
  "metadata": {
    "colab": {
      "provenance": [],
      "authorship_tag": "ABX9TyMn7+mFoT/4gFrs+XJRJAAw",
      "include_colab_link": true
    },
    "kernelspec": {
      "name": "python3",
      "display_name": "Python 3"
    },
    "language_info": {
      "name": "python"
    }
  },
  "cells": [
    {
      "cell_type": "markdown",
      "metadata": {
        "id": "view-in-github",
        "colab_type": "text"
      },
      "source": [
        "<a href=\"https://colab.research.google.com/github/UEPP40/PUM/blob/main/zaj%C4%99cia2.ipynb\" target=\"_parent\"><img src=\"https://colab.research.google.com/assets/colab-badge.svg\" alt=\"Open In Colab\"/></a>"
      ]
    },
    {
      "cell_type": "code",
      "execution_count": null,
      "metadata": {
        "id": "lsaEFIQoM1T1"
      },
      "outputs": [],
      "source": [
        "# Do wyświetlania kolorowego tekstu w konsoli\n",
        "import pandas as pd\n",
        "import numpy as np\n",
        "from termcolor import colored\n",
        "\n",
        "# Wczytaj dane\n",
        "df = pd.read_csv(\"train.csv\")\n",
        "\n",
        "\n",
        "# Lista cech do przekształcenia na liczby\n",
        "FeaturesToConvert = ['Age', 'Annual_Income', 'Num_of_Loan', 'Num_of_Delayed_Payment',\n",
        "                     'Changed_Credit_Limit', 'Outstanding_Debt', 'Amount_invested_monthly',\n",
        "                     'Monthly_Balance']\n",
        "\n",
        "# Sprawdź unikalne wartości cech\n",
        "for feature in FeaturesToConvert:\n",
        "    uniques = df[feature].unique()\n",
        "    print('Feature:\\n', colored(feature, attrs=['bold']), '\\n', uniques, '\\n', '--'*40, '\\n')\n",
        "\n",
        "# Usuń zbędne znaki '-’ , '_'\n",
        "for feature in FeaturesToConvert:\n",
        "    df[feature] = df[feature].str.strip('-_’')\n",
        "\n",
        "# Zastąp puste kolumny wartościami NaN\n",
        "for feature in FeaturesToConvert:\n",
        "    df[feature] = df[feature].replace({'': np.nan})\n",
        "\n",
        "# Zmień typ zmiennych ilościowych na float64\n",
        "for feature in FeaturesToConvert:\n",
        "    df[feature] = df[feature].astype('float64')\n",
        "\n",
        "for feature in FeaturesToConvert:\n",
        "    mean_value = df[feature].mean()  # Oblicz średnią dla każdej kolumny\n",
        "    df[feature].fillna(mean_value, inplace=True)  # Uzupełnij braki danych średnią\n",
        "print(\"Wymiary ramki danych:\", df.shape)\n",
        "print(df.head())\n",
        "for feature in FeaturesToConvert:\n",
        "    # Oblicz średnią dla każdej kolumny\n",
        "    mean_value = df[feature].mean()\n",
        "    # Uzupełnij braki danych średnią\n",
        "    df[feature].fillna(mean_value, inplace=True)"
      ]
    }
  ]
}